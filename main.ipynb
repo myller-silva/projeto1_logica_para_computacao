{
 "cells": [
  {
   "cell_type": "code",
   "execution_count": 1,
   "metadata": {},
   "outputs": [],
   "source": [
    "from my_functions import *\n",
    "from LogiComp.formula import *\n",
    "import LogiComp.functions as f\n",
    "import pandas as pd\n",
    "from my_functions.restricoes import *\n",
    "from LogiComp.semantics import *\n",
    "from math import pow"
   ]
  },
  {
   "cell_type": "code",
   "execution_count": 2,
   "metadata": {},
   "outputs": [],
   "source": [
    "file = './arquivo_dos_pacientes/column_bin_3a_3p.csv'\n",
    "df = pd.read_csv(f'./{file}')\n",
    "m_regras = 1"
   ]
  },
  {
   "cell_type": "code",
   "execution_count": 3,
   "metadata": {},
   "outputs": [],
   "source": [
    "r1 = restricao_um(df, m_regras)\n",
    "r2 = restricao_dois(df, m_regras)\n",
    "r3 = restricao_tres(df, m_regras)\n",
    "r4 = restricao_quatro(df, m_regras)\n",
    "r5 = restricao_cinco(df, m_regras)\n",
    "r6 = restricao_seis(df, m_regras)"
   ]
  },
  {
   "cell_type": "code",
   "execution_count": 4,
   "metadata": {},
   "outputs": [
    {
     "name": "stdout",
     "output_type": "stream",
     "text": [
      "C1,1 ∧ C1,2\n",
      "C1,1 ∨ C1,2\n"
     ]
    }
   ],
   "source": [
    "print(r5)\n",
    "print(r6)\n"
   ]
  },
  {
   "cell_type": "code",
   "execution_count": 5,
   "metadata": {},
   "outputs": [
    {
     "data": {
      "text/html": [
       "<div>\n",
       "<style scoped>\n",
       "    .dataframe tbody tr th:only-of-type {\n",
       "        vertical-align: middle;\n",
       "    }\n",
       "\n",
       "    .dataframe tbody tr th {\n",
       "        vertical-align: top;\n",
       "    }\n",
       "\n",
       "    .dataframe thead th {\n",
       "        text-align: right;\n",
       "    }\n",
       "</style>\n",
       "<table border=\"1\" class=\"dataframe\">\n",
       "  <thead>\n",
       "    <tr style=\"text-align: right;\">\n",
       "      <th></th>\n",
       "      <th>PI &lt;= 42.09</th>\n",
       "      <th>PI &lt;= 70.62</th>\n",
       "      <th>GS &lt;= 57.55</th>\n",
       "      <th>P</th>\n",
       "    </tr>\n",
       "  </thead>\n",
       "  <tbody>\n",
       "    <tr>\n",
       "      <th>0</th>\n",
       "      <td>0</td>\n",
       "      <td>0</td>\n",
       "      <td>1</td>\n",
       "      <td>1</td>\n",
       "    </tr>\n",
       "    <tr>\n",
       "      <th>1</th>\n",
       "      <td>0</td>\n",
       "      <td>0</td>\n",
       "      <td>0</td>\n",
       "      <td>1</td>\n",
       "    </tr>\n",
       "    <tr>\n",
       "      <th>2</th>\n",
       "      <td>0</td>\n",
       "      <td>1</td>\n",
       "      <td>0</td>\n",
       "      <td>0</td>\n",
       "    </tr>\n",
       "  </tbody>\n",
       "</table>\n",
       "</div>"
      ],
      "text/plain": [
       "   PI <= 42.09  PI <= 70.62  GS <= 57.55  P\n",
       "0            0            0            1  1\n",
       "1            0            0            0  1\n",
       "2            0            1            0  0"
      ]
     },
     "execution_count": 5,
     "metadata": {},
     "output_type": "execute_result"
    }
   ],
   "source": [
    "df"
   ]
  },
  {
   "cell_type": "code",
   "execution_count": 6,
   "metadata": {},
   "outputs": [
    {
     "name": "stdout",
     "output_type": "stream",
     "text": [
      "XPI <= 42.09,1,le: False\n",
      "XPI <= 42.09,1,gt: True\n",
      "XPI <= 42.09,1,s : False\n",
      "XPI <= 70.62,1,le: False\n",
      "XPI <= 70.62,1,gt: True\n",
      "XPI <= 70.62,1,s : False\n",
      "XGS <= 57.55,1,le: False\n",
      "XGS <= 57.55,1,gt: False\n",
      "XGS <= 57.55,1,s : True\n",
      "C1,1: True\n",
      "C1,2: True\n",
      "\n",
      "len: 11\n",
      "2^11: 2048.0\n"
     ]
    }
   ],
   "source": [
    "formula =  list_to_form( [r1, r2, r3, r4, r5], And ) \n",
    "interpretation = satisfiability_brute_force( formula ) \n",
    "if(interpretation != False):\n",
    "  for atom in interpretation:\n",
    "    print(f'{atom}: {interpretation[atom]}')\n",
    "  print(f'\\nlen: {len(interpretation)}')\n",
    "  print(f'2^{len(interpretation)}: {pow(2, len(interpretation))}')"
   ]
  },
  {
   "cell_type": "code",
   "execution_count": 7,
   "metadata": {},
   "outputs": [
    {
     "data": {
      "text/plain": [
       "[['PI > 42.09', 'PI > 70.62']]"
      ]
     },
     "execution_count": 7,
     "metadata": {},
     "output_type": "execute_result"
    }
   ],
   "source": [
    "rule_set_generator(df, interpretation, m_regras)"
   ]
  },
  {
   "cell_type": "code",
   "execution_count": 8,
   "metadata": {},
   "outputs": [
    {
     "data": {
      "text/html": [
       "<div>\n",
       "<style scoped>\n",
       "    .dataframe tbody tr th:only-of-type {\n",
       "        vertical-align: middle;\n",
       "    }\n",
       "\n",
       "    .dataframe tbody tr th {\n",
       "        vertical-align: top;\n",
       "    }\n",
       "\n",
       "    .dataframe thead th {\n",
       "        text-align: right;\n",
       "    }\n",
       "</style>\n",
       "<table border=\"1\" class=\"dataframe\">\n",
       "  <thead>\n",
       "    <tr style=\"text-align: right;\">\n",
       "      <th></th>\n",
       "      <th>PI &lt;= 42.09</th>\n",
       "      <th>PI &lt;= 70.62</th>\n",
       "      <th>GS &lt;= 57.55</th>\n",
       "      <th>P</th>\n",
       "    </tr>\n",
       "  </thead>\n",
       "  <tbody>\n",
       "    <tr>\n",
       "      <th>0</th>\n",
       "      <td>0</td>\n",
       "      <td>0</td>\n",
       "      <td>1</td>\n",
       "      <td>1</td>\n",
       "    </tr>\n",
       "    <tr>\n",
       "      <th>1</th>\n",
       "      <td>0</td>\n",
       "      <td>0</td>\n",
       "      <td>0</td>\n",
       "      <td>1</td>\n",
       "    </tr>\n",
       "    <tr>\n",
       "      <th>2</th>\n",
       "      <td>0</td>\n",
       "      <td>1</td>\n",
       "      <td>0</td>\n",
       "      <td>0</td>\n",
       "    </tr>\n",
       "  </tbody>\n",
       "</table>\n",
       "</div>"
      ],
      "text/plain": [
       "   PI <= 42.09  PI <= 70.62  GS <= 57.55  P\n",
       "0            0            0            1  1\n",
       "1            0            0            0  1\n",
       "2            0            1            0  0"
      ]
     },
     "execution_count": 8,
     "metadata": {},
     "output_type": "execute_result"
    }
   ],
   "source": [
    "df"
   ]
  },
  {
   "cell_type": "code",
   "execution_count": null,
   "metadata": {},
   "outputs": [],
   "source": []
  }
 ],
 "metadata": {
  "kernelspec": {
   "display_name": "Python 3.10.7 64-bit",
   "language": "python",
   "name": "python3"
  },
  "language_info": {
   "codemirror_mode": {
    "name": "ipython",
    "version": 3
   },
   "file_extension": ".py",
   "mimetype": "text/x-python",
   "name": "python",
   "nbconvert_exporter": "python",
   "pygments_lexer": "ipython3",
   "version": "3.10.7"
  },
  "orig_nbformat": 4,
  "vscode": {
   "interpreter": {
    "hash": "9c77333bec7264131399470f32a03f5ab2ca473375e9c77688ea8b5395f206ec"
   }
  }
 },
 "nbformat": 4,
 "nbformat_minor": 2
}
